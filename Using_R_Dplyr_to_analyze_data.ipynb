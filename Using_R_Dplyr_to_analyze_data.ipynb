{
  "nbformat": 4,
  "nbformat_minor": 0,
  "metadata": {
    "colab": {
      "name": "Using R Dplyr to analyze data.ipynb",
      "provenance": [],
      "collapsed_sections": [],
      "authorship_tag": "ABX9TyPcQoRuXymll733LYzfmP3H",
      "include_colab_link": true
    },
    "kernelspec": {
      "name": "python3",
      "display_name": "Python 3"
    },
    "language_info": {
      "name": "python"
    }
  },
  "cells": [
    {
      "cell_type": "markdown",
      "metadata": {
        "id": "view-in-github",
        "colab_type": "text"
      },
      "source": [
        "<a href=\"https://colab.research.google.com/github/Arron-Harris/Using-R-Dplyr-To-Analyze-Data/blob/main/Using_R_Dplyr_to_analyze_data.ipynb\" target=\"_parent\"><img src=\"https://colab.research.google.com/assets/colab-badge.svg\" alt=\"Open In Colab\"/></a>"
      ]
    },
    {
      "cell_type": "code",
      "execution_count": null,
      "metadata": {
        "id": "KQ0pIQqLPFQ_"
      },
      "outputs": [],
      "source": [
        "%load_ext rpy2.ipython"
      ]
    },
    {
      "cell_type": "code",
      "source": [
        "%%R\n",
        "library(tidyverse)"
      ],
      "metadata": {
        "colab": {
          "base_uri": "https://localhost:8080/"
        },
        "id": "leJzPfivS9QE",
        "outputId": "9aad7a97-696d-4bfd-ee57-b49946056916"
      },
      "execution_count": null,
      "outputs": [
        {
          "output_type": "stream",
          "name": "stderr",
          "text": [
            "R[write to console]: ── Attaching packages ─────────────────────────────────────── tidyverse 1.3.1 ──\n",
            "\n",
            "R[write to console]: ✔ ggplot2 3.3.5     ✔ purrr   0.3.4\n",
            "✔ tibble  3.1.6     ✔ dplyr   1.0.9\n",
            "✔ tidyr   1.2.0     ✔ stringr 1.4.0\n",
            "✔ readr   2.1.2     ✔ forcats 0.5.1\n",
            "\n",
            "R[write to console]: ── Conflicts ────────────────────────────────────────── tidyverse_conflicts() ──\n",
            "✖ dplyr::filter() masks stats::filter()\n",
            "✖ dplyr::lag()    masks stats::lag()\n",
            "\n"
          ]
        }
      ]
    },
    {
      "cell_type": "code",
      "source": [
        "%%R\n",
        "library(\"dplyr\")"
      ],
      "metadata": {
        "colab": {
          "base_uri": "https://localhost:8080/"
        },
        "id": "_rqIh8VVUcBM",
        "outputId": "013aa3e0-c64d-47b0-b56f-51245c254cd2"
      },
      "execution_count": null,
      "outputs": [
        {
          "output_type": "stream",
          "name": "stderr",
          "text": [
            "R[write to console]: \n",
            "Attaching package: ‘dplyr’\n",
            "\n",
            "\n",
            "R[write to console]: The following objects are masked from ‘package:stats’:\n",
            "\n",
            "    filter, lag\n",
            "\n",
            "\n",
            "R[write to console]: The following objects are masked from ‘package:base’:\n",
            "\n",
            "    intersect, setdiff, setequal, union\n",
            "\n",
            "\n"
          ]
        }
      ]
    },
    {
      "cell_type": "markdown",
      "source": [
        "dplyr is a library use for manipulating data in R. Here we will use a built in dataset called starwars to find insight. When it is run it gives back a dataframe."
      ],
      "metadata": {
        "id": "BmmuBs9ZWbNG"
      }
    },
    {
      "cell_type": "code",
      "source": [
        "%%R\n",
        "starwars"
      ],
      "metadata": {
        "colab": {
          "base_uri": "https://localhost:8080/"
        },
        "id": "xSTSz6ywVl-j",
        "outputId": "44ff5faf-9dd5-4152-f8c5-1aac8972418e"
      },
      "execution_count": null,
      "outputs": [
        {
          "output_type": "stream",
          "name": "stdout",
          "text": [
            "# A tibble: 87 × 14\n",
            "   name     height  mass hair_color skin_color eye_color birth_year sex   gender\n",
            "   <chr>     <int> <dbl> <chr>      <chr>      <chr>          <dbl> <chr> <chr> \n",
            " 1 Luke Sk…    172    77 blond      fair       blue            19   male  mascu…\n",
            " 2 C-3PO       167    75 <NA>       gold       yellow         112   none  mascu…\n",
            " 3 R2-D2        96    32 <NA>       white, bl… red             33   none  mascu…\n",
            " 4 Darth V…    202   136 none       white      yellow          41.9 male  mascu…\n",
            " 5 Leia Or…    150    49 brown      light      brown           19   fema… femin…\n",
            " 6 Owen La…    178   120 brown, gr… light      blue            52   male  mascu…\n",
            " 7 Beru Wh…    165    75 brown      light      blue            47   fema… femin…\n",
            " 8 R5-D4        97    32 <NA>       white, red red             NA   none  mascu…\n",
            " 9 Biggs D…    183    84 black      light      brown           24   male  mascu…\n",
            "10 Obi-Wan…    182    77 auburn, w… fair       blue-gray       57   male  mascu…\n",
            "# … with 77 more rows, and 5 more variables: homeworld <chr>, species <chr>,\n",
            "#   films <list>, vehicles <list>, starships <list>\n"
          ]
        }
      ]
    },
    {
      "cell_type": "markdown",
      "source": [
        "Setting the starwars dataframe equal to a variable called sw."
      ],
      "metadata": {
        "id": "_uG_3hYzY5TK"
      }
    },
    {
      "cell_type": "code",
      "source": [
        "%%R\n",
        "sw <- starwars"
      ],
      "metadata": {
        "id": "wQYnU70PWHwr"
      },
      "execution_count": null,
      "outputs": []
    },
    {
      "cell_type": "markdown",
      "source": [
        "Used the class function to confirm that this variable is a dataframe."
      ],
      "metadata": {
        "id": "bs1SBcQZZUCg"
      }
    },
    {
      "cell_type": "code",
      "source": [
        "%%R\n",
        "class(sw)"
      ],
      "metadata": {
        "colab": {
          "base_uri": "https://localhost:8080/"
        },
        "id": "S5LaCR6hY3n1",
        "outputId": "c9ca2d6d-fa6a-45d4-e5cb-fdadca556793"
      },
      "execution_count": null,
      "outputs": [
        {
          "output_type": "stream",
          "name": "stdout",
          "text": [
            "[1] \"tbl_df\"     \"tbl\"        \"data.frame\"\n"
          ]
        }
      ]
    },
    {
      "cell_type": "markdown",
      "source": [
        "Grabbing the the hair column from the dataframe.NA means that the information is not available."
      ],
      "metadata": {
        "id": "bYVvjQthZ-6c"
      }
    },
    {
      "cell_type": "code",
      "source": [
        "%%R\n",
        "sw$hair_color"
      ],
      "metadata": {
        "colab": {
          "base_uri": "https://localhost:8080/"
        },
        "id": "ORO3kLVHZcII",
        "outputId": "770a4b66-b1e5-47d5-a8fd-d9073ae93f4d"
      },
      "execution_count": null,
      "outputs": [
        {
          "output_type": "stream",
          "name": "stdout",
          "text": [
            " [1] \"blond\"         NA              NA              \"none\"         \n",
            " [5] \"brown\"         \"brown, grey\"   \"brown\"         NA             \n",
            " [9] \"black\"         \"auburn, white\" \"blond\"         \"auburn, grey\" \n",
            "[13] \"brown\"         \"brown\"         NA              NA             \n",
            "[17] \"brown\"         \"brown\"         \"white\"         \"grey\"         \n",
            "[21] \"black\"         \"none\"          \"none\"          \"black\"        \n",
            "[25] \"none\"          \"none\"          \"auburn\"        \"brown\"        \n",
            "[29] \"brown\"         \"none\"          \"brown\"         \"none\"         \n",
            "[33] \"blond\"         \"none\"          \"none\"          \"none\"         \n",
            "[37] \"brown\"         \"black\"         \"none\"          \"black\"        \n",
            "[41] \"black\"         \"none\"          \"none\"          \"none\"         \n",
            "[45] \"none\"          \"none\"          \"none\"          \"none\"         \n",
            "[49] \"white\"         \"none\"          \"black\"         \"none\"         \n",
            "[53] \"none\"          \"none\"          \"none\"          \"none\"         \n",
            "[57] \"black\"         \"brown\"         \"brown\"         \"none\"         \n",
            "[61] \"black\"         \"black\"         \"brown\"         \"white\"        \n",
            "[65] \"black\"         \"black\"         \"blonde\"        \"none\"         \n",
            "[69] \"none\"          \"none\"          \"white\"         \"none\"         \n",
            "[73] \"none\"          \"none\"          \"none\"          \"none\"         \n",
            "[77] \"none\"          \"brown\"         \"brown\"         \"none\"         \n",
            "[81] \"none\"          \"black\"         \"brown\"         \"brown\"        \n",
            "[85] \"none\"          \"unknown\"       \"brown\"        \n"
          ]
        }
      ]
    },
    {
      "cell_type": "markdown",
      "source": [
        "Used the filter function and set the condtition to only show people in starwars with a height greater than"
      ],
      "metadata": {
        "id": "GMZlGO_Lc2vy"
      }
    },
    {
      "cell_type": "code",
      "source": [
        "%%R\n",
        "filter(sw,)\n",
        "sw[sw$height>100,]"
      ],
      "metadata": {
        "colab": {
          "base_uri": "https://localhost:8080/"
        },
        "id": "6aaK1pISagPi",
        "outputId": "505ebdf6-4bad-4e55-f646-36f412808e98"
      },
      "execution_count": null,
      "outputs": [
        {
          "output_type": "stream",
          "name": "stdout",
          "text": [
            "# A tibble: 80 × 14\n",
            "   name     height  mass hair_color skin_color eye_color birth_year sex   gender\n",
            "   <chr>     <int> <dbl> <chr>      <chr>      <chr>          <dbl> <chr> <chr> \n",
            " 1 Luke Sk…    172    77 blond      fair       blue            19   male  mascu…\n",
            " 2 C-3PO       167    75 <NA>       gold       yellow         112   none  mascu…\n",
            " 3 Darth V…    202   136 none       white      yellow          41.9 male  mascu…\n",
            " 4 Leia Or…    150    49 brown      light      brown           19   fema… femin…\n",
            " 5 Owen La…    178   120 brown, gr… light      blue            52   male  mascu…\n",
            " 6 Beru Wh…    165    75 brown      light      blue            47   fema… femin…\n",
            " 7 Biggs D…    183    84 black      light      brown           24   male  mascu…\n",
            " 8 Obi-Wan…    182    77 auburn, w… fair       blue-gray       57   male  mascu…\n",
            " 9 Anakin …    188    84 blond      fair       blue            41.9 male  mascu…\n",
            "10 Wilhuff…    180    NA auburn, g… fair       blue            64   male  mascu…\n",
            "# … with 70 more rows, and 5 more variables: homeworld <chr>, species <chr>,\n",
            "#   films <list>, vehicles <list>, starships <list>\n"
          ]
        }
      ]
    },
    {
      "cell_type": "code",
      "source": [
        ""
      ],
      "metadata": {
        "id": "DxABn4oLfTlr"
      },
      "execution_count": null,
      "outputs": []
    },
    {
      "cell_type": "markdown",
      "source": [
        "Used nrows function to see the number of rows in the from the height condition"
      ],
      "metadata": {
        "id": "kUJWFDfKhWXc"
      }
    },
    {
      "cell_type": "code",
      "source": [
        "%%R\n",
        "nrow(sw[sw$height>100,])"
      ],
      "metadata": {
        "colab": {
          "base_uri": "https://localhost:8080/"
        },
        "outputId": "a0eccb1d-48d9-44f2-986d-89ff0bf66e61",
        "id": "9ZGAT6pfhHU3"
      },
      "execution_count": null,
      "outputs": [
        {
          "output_type": "stream",
          "name": "stdout",
          "text": [
            "[1] 80\n"
          ]
        }
      ]
    },
    {
      "cell_type": "markdown",
      "source": [
        "Glimps function allows me to see a quick snapshot of the data."
      ],
      "metadata": {
        "id": "aQk89_BVkC9q"
      }
    },
    {
      "cell_type": "code",
      "source": [
        "%%R\n",
        "sw%>%\n",
        "  glimpse()"
      ],
      "metadata": {
        "colab": {
          "base_uri": "https://localhost:8080/"
        },
        "id": "4wjD5k3ChuRR",
        "outputId": "60ba73b8-2cec-490f-a593-4e9e64f3ce1a"
      },
      "execution_count": null,
      "outputs": [
        {
          "output_type": "stream",
          "name": "stdout",
          "text": [
            "Rows: 87\n",
            "Columns: 14\n",
            "$ name       <chr> \"Luke Skywalker\", \"C-3PO\", \"R2-D2\", \"Darth Vader\", \"Leia Or…\n",
            "$ height     <int> 172, 167, 96, 202, 150, 178, 165, 97, 183, 182, 188, 180, 2…\n",
            "$ mass       <dbl> 77.0, 75.0, 32.0, 136.0, 49.0, 120.0, 75.0, 32.0, 84.0, 77.…\n",
            "$ hair_color <chr> \"blond\", NA, NA, \"none\", \"brown\", \"brown, grey\", \"brown\", N…\n",
            "$ skin_color <chr> \"fair\", \"gold\", \"white, blue\", \"white\", \"light\", \"light\", \"…\n",
            "$ eye_color  <chr> \"blue\", \"yellow\", \"red\", \"yellow\", \"brown\", \"blue\", \"blue\",…\n",
            "$ birth_year <dbl> 19.0, 112.0, 33.0, 41.9, 19.0, 52.0, 47.0, NA, 24.0, 57.0, …\n",
            "$ sex        <chr> \"male\", \"none\", \"none\", \"male\", \"female\", \"male\", \"female\",…\n",
            "$ gender     <chr> \"masculine\", \"masculine\", \"masculine\", \"masculine\", \"femini…\n",
            "$ homeworld  <chr> \"Tatooine\", \"Tatooine\", \"Naboo\", \"Tatooine\", \"Alderaan\", \"T…\n",
            "$ species    <chr> \"Human\", \"Droid\", \"Droid\", \"Human\", \"Human\", \"Human\", \"Huma…\n",
            "$ films      <list> <\"The Empire Strikes Back\", \"Revenge of the Sith\", \"Return…\n",
            "$ vehicles   <list> <\"Snowspeeder\", \"Imperial Speeder Bike\">, <>, <>, <>, \"Imp…\n",
            "$ starships  <list> <\"X-wing\", \"Imperial shuttle\">, <>, <>, \"TIE Advanced x1\",…\n"
          ]
        }
      ]
    },
    {
      "cell_type": "markdown",
      "source": [
        "The string function stored the lists in the dataframe as strings."
      ],
      "metadata": {
        "id": "VdRKJBg_ko3j"
      }
    },
    {
      "cell_type": "code",
      "source": [
        "%%R\n",
        "str(sw)"
      ],
      "metadata": {
        "colab": {
          "base_uri": "https://localhost:8080/"
        },
        "id": "tKIO8K_akXBE",
        "outputId": "9fdd2b23-14b7-4526-a266-9132c24287f0"
      },
      "execution_count": null,
      "outputs": [
        {
          "output_type": "stream",
          "name": "stdout",
          "text": [
            "tibble [87 × 14] (S3: tbl_df/tbl/data.frame)\n",
            " $ name      : chr [1:87] \"Luke Skywalker\" \"C-3PO\" \"R2-D2\" \"Darth Vader\" ...\n",
            " $ height    : int [1:87] 172 167 96 202 150 178 165 97 183 182 ...\n",
            " $ mass      : num [1:87] 77 75 32 136 49 120 75 32 84 77 ...\n",
            " $ hair_color: chr [1:87] \"blond\" NA NA \"none\" ...\n",
            " $ skin_color: chr [1:87] \"fair\" \"gold\" \"white, blue\" \"white\" ...\n",
            " $ eye_color : chr [1:87] \"blue\" \"yellow\" \"red\" \"yellow\" ...\n",
            " $ birth_year: num [1:87] 19 112 33 41.9 19 52 47 NA 24 57 ...\n",
            " $ sex       : chr [1:87] \"male\" \"none\" \"none\" \"male\" ...\n",
            " $ gender    : chr [1:87] \"masculine\" \"masculine\" \"masculine\" \"masculine\" ...\n",
            " $ homeworld : chr [1:87] \"Tatooine\" \"Tatooine\" \"Naboo\" \"Tatooine\" ...\n",
            " $ species   : chr [1:87] \"Human\" \"Droid\" \"Droid\" \"Human\" ...\n",
            " $ films     :List of 87\n",
            "  ..$ : chr [1:5] \"The Empire Strikes Back\" \"Revenge of the Sith\" \"Return of the Jedi\" \"A New Hope\" ...\n",
            "  ..$ : chr [1:6] \"The Empire Strikes Back\" \"Attack of the Clones\" \"The Phantom Menace\" \"Revenge of the Sith\" ...\n",
            "  ..$ : chr [1:7] \"The Empire Strikes Back\" \"Attack of the Clones\" \"The Phantom Menace\" \"Revenge of the Sith\" ...\n",
            "  ..$ : chr [1:4] \"The Empire Strikes Back\" \"Revenge of the Sith\" \"Return of the Jedi\" \"A New Hope\"\n",
            "  ..$ : chr [1:5] \"The Empire Strikes Back\" \"Revenge of the Sith\" \"Return of the Jedi\" \"A New Hope\" ...\n",
            "  ..$ : chr [1:3] \"Attack of the Clones\" \"Revenge of the Sith\" \"A New Hope\"\n",
            "  ..$ : chr [1:3] \"Attack of the Clones\" \"Revenge of the Sith\" \"A New Hope\"\n",
            "  ..$ : chr \"A New Hope\"\n",
            "  ..$ : chr \"A New Hope\"\n",
            "  ..$ : chr [1:6] \"The Empire Strikes Back\" \"Attack of the Clones\" \"The Phantom Menace\" \"Revenge of the Sith\" ...\n",
            "  ..$ : chr [1:3] \"Attack of the Clones\" \"The Phantom Menace\" \"Revenge of the Sith\"\n",
            "  ..$ : chr [1:2] \"Revenge of the Sith\" \"A New Hope\"\n",
            "  ..$ : chr [1:5] \"The Empire Strikes Back\" \"Revenge of the Sith\" \"Return of the Jedi\" \"A New Hope\" ...\n",
            "  ..$ : chr [1:4] \"The Empire Strikes Back\" \"Return of the Jedi\" \"A New Hope\" \"The Force Awakens\"\n",
            "  ..$ : chr \"A New Hope\"\n",
            "  ..$ : chr [1:3] \"The Phantom Menace\" \"Return of the Jedi\" \"A New Hope\"\n",
            "  ..$ : chr [1:3] \"The Empire Strikes Back\" \"Return of the Jedi\" \"A New Hope\"\n",
            "  ..$ : chr \"A New Hope\"\n",
            "  ..$ : chr [1:5] \"The Empire Strikes Back\" \"Attack of the Clones\" \"The Phantom Menace\" \"Revenge of the Sith\" ...\n",
            "  ..$ : chr [1:5] \"The Empire Strikes Back\" \"Attack of the Clones\" \"The Phantom Menace\" \"Revenge of the Sith\" ...\n",
            "  ..$ : chr [1:3] \"The Empire Strikes Back\" \"Attack of the Clones\" \"Return of the Jedi\"\n",
            "  ..$ : chr \"The Empire Strikes Back\"\n",
            "  ..$ : chr \"The Empire Strikes Back\"\n",
            "  ..$ : chr [1:2] \"The Empire Strikes Back\" \"Return of the Jedi\"\n",
            "  ..$ : chr \"The Empire Strikes Back\"\n",
            "  ..$ : chr [1:2] \"Return of the Jedi\" \"The Force Awakens\"\n",
            "  ..$ : chr \"Return of the Jedi\"\n",
            "  ..$ : chr \"Return of the Jedi\"\n",
            "  ..$ : chr \"Return of the Jedi\"\n",
            "  ..$ : chr \"Return of the Jedi\"\n",
            "  ..$ : chr \"The Phantom Menace\"\n",
            "  ..$ : chr [1:3] \"Attack of the Clones\" \"The Phantom Menace\" \"Revenge of the Sith\"\n",
            "  ..$ : chr \"The Phantom Menace\"\n",
            "  ..$ : chr [1:2] \"Attack of the Clones\" \"The Phantom Menace\"\n",
            "  ..$ : chr \"The Phantom Menace\"\n",
            "  ..$ : chr \"The Phantom Menace\"\n",
            "  ..$ : chr \"The Phantom Menace\"\n",
            "  ..$ : chr [1:2] \"Attack of the Clones\" \"The Phantom Menace\"\n",
            "  ..$ : chr \"The Phantom Menace\"\n",
            "  ..$ : chr \"The Phantom Menace\"\n",
            "  ..$ : chr [1:2] \"Attack of the Clones\" \"The Phantom Menace\"\n",
            "  ..$ : chr \"The Phantom Menace\"\n",
            "  ..$ : chr \"Return of the Jedi\"\n",
            "  ..$ : chr [1:3] \"Attack of the Clones\" \"The Phantom Menace\" \"Revenge of the Sith\"\n",
            "  ..$ : chr \"The Phantom Menace\"\n",
            "  ..$ : chr \"The Phantom Menace\"\n",
            "  ..$ : chr \"The Phantom Menace\"\n",
            "  ..$ : chr [1:3] \"Attack of the Clones\" \"The Phantom Menace\" \"Revenge of the Sith\"\n",
            "  ..$ : chr [1:3] \"Attack of the Clones\" \"The Phantom Menace\" \"Revenge of the Sith\"\n",
            "  ..$ : chr [1:3] \"Attack of the Clones\" \"The Phantom Menace\" \"Revenge of the Sith\"\n",
            "  ..$ : chr [1:2] \"The Phantom Menace\" \"Revenge of the Sith\"\n",
            "  ..$ : chr [1:2] \"The Phantom Menace\" \"Revenge of the Sith\"\n",
            "  ..$ : chr [1:2] \"The Phantom Menace\" \"Revenge of the Sith\"\n",
            "  ..$ : chr \"The Phantom Menace\"\n",
            "  ..$ : chr [1:3] \"Attack of the Clones\" \"The Phantom Menace\" \"Revenge of the Sith\"\n",
            "  ..$ : chr [1:2] \"Attack of the Clones\" \"The Phantom Menace\"\n",
            "  ..$ : chr \"Attack of the Clones\"\n",
            "  ..$ : chr \"Attack of the Clones\"\n",
            "  ..$ : chr \"Attack of the Clones\"\n",
            "  ..$ : chr [1:2] \"Attack of the Clones\" \"Revenge of the Sith\"\n",
            "  ..$ : chr [1:2] \"Attack of the Clones\" \"Revenge of the Sith\"\n",
            "  ..$ : chr \"Attack of the Clones\"\n",
            "  ..$ : chr \"Attack of the Clones\"\n",
            "  ..$ : chr [1:2] \"Attack of the Clones\" \"Revenge of the Sith\"\n",
            "  ..$ : chr [1:2] \"Attack of the Clones\" \"Revenge of the Sith\"\n",
            "  ..$ : chr \"Attack of the Clones\"\n",
            "  ..$ : chr \"Attack of the Clones\"\n",
            "  ..$ : chr \"Attack of the Clones\"\n",
            "  ..$ : chr \"Attack of the Clones\"\n",
            "  ..$ : chr \"Attack of the Clones\"\n",
            "  ..$ : chr \"Attack of the Clones\"\n",
            "  ..$ : chr \"The Phantom Menace\"\n",
            "  ..$ : chr [1:2] \"Attack of the Clones\" \"Revenge of the Sith\"\n",
            "  ..$ : chr \"Attack of the Clones\"\n",
            "  ..$ : chr \"Attack of the Clones\"\n",
            "  ..$ : chr [1:2] \"Attack of the Clones\" \"Revenge of the Sith\"\n",
            "  ..$ : chr \"Revenge of the Sith\"\n",
            "  ..$ : chr \"Revenge of the Sith\"\n",
            "  ..$ : chr [1:2] \"Revenge of the Sith\" \"A New Hope\"\n",
            "  ..$ : chr [1:2] \"Attack of the Clones\" \"Revenge of the Sith\"\n",
            "  ..$ : chr \"Revenge of the Sith\"\n",
            "  ..$ : chr \"The Force Awakens\"\n",
            "  ..$ : chr \"The Force Awakens\"\n",
            "  ..$ : chr \"The Force Awakens\"\n",
            "  ..$ : chr \"The Force Awakens\"\n",
            "  ..$ : chr \"The Force Awakens\"\n",
            "  ..$ : chr [1:3] \"Attack of the Clones\" \"The Phantom Menace\" \"Revenge of the Sith\"\n",
            " $ vehicles  :List of 87\n",
            "  ..$ : chr [1:2] \"Snowspeeder\" \"Imperial Speeder Bike\"\n",
            "  ..$ : chr(0) \n",
            "  ..$ : chr(0) \n",
            "  ..$ : chr(0) \n",
            "  ..$ : chr \"Imperial Speeder Bike\"\n",
            "  ..$ : chr(0) \n",
            "  ..$ : chr(0) \n",
            "  ..$ : chr(0) \n",
            "  ..$ : chr(0) \n",
            "  ..$ : chr \"Tribubble bongo\"\n",
            "  ..$ : chr [1:2] \"Zephyr-G swoop bike\" \"XJ-6 airspeeder\"\n",
            "  ..$ : chr(0) \n",
            "  ..$ : chr \"AT-ST\"\n",
            "  ..$ : chr(0) \n",
            "  ..$ : chr(0) \n",
            "  ..$ : chr(0) \n",
            "  ..$ : chr \"Snowspeeder\"\n",
            "  ..$ : chr(0) \n",
            "  ..$ : chr(0) \n",
            "  ..$ : chr(0) \n",
            "  ..$ : chr(0) \n",
            "  ..$ : chr(0) \n",
            "  ..$ : chr(0) \n",
            "  ..$ : chr(0) \n",
            "  ..$ : chr(0) \n",
            "  ..$ : chr(0) \n",
            "  ..$ : chr(0) \n",
            "  ..$ : chr(0) \n",
            "  ..$ : chr(0) \n",
            "  ..$ : chr(0) \n",
            "  ..$ : chr \"Tribubble bongo\"\n",
            "  ..$ : chr(0) \n",
            "  ..$ : chr(0) \n",
            "  ..$ : chr(0) \n",
            "  ..$ : chr(0) \n",
            "  ..$ : chr(0) \n",
            "  ..$ : chr(0) \n",
            "  ..$ : chr(0) \n",
            "  ..$ : chr(0) \n",
            "  ..$ : chr(0) \n",
            "  ..$ : chr(0) \n",
            "  ..$ : chr \"Sith speeder\"\n",
            "  ..$ : chr(0) \n",
            "  ..$ : chr(0) \n",
            "  ..$ : chr(0) \n",
            "  ..$ : chr(0) \n",
            "  ..$ : chr(0) \n",
            "  ..$ : chr(0) \n",
            "  ..$ : chr(0) \n",
            "  ..$ : chr(0) \n",
            "  ..$ : chr(0) \n",
            "  ..$ : chr(0) \n",
            "  ..$ : chr(0) \n",
            "  ..$ : chr(0) \n",
            "  ..$ : chr(0) \n",
            "  ..$ : chr(0) \n",
            "  ..$ : chr(0) \n",
            "  ..$ : chr(0) \n",
            "  ..$ : chr(0) \n",
            "  ..$ : chr(0) \n",
            "  ..$ : chr(0) \n",
            "  ..$ : chr(0) \n",
            "  ..$ : chr(0) \n",
            "  ..$ : chr \"Flitknot speeder\"\n",
            "  ..$ : chr(0) \n",
            "  ..$ : chr(0) \n",
            "  ..$ : chr \"Koro-2 Exodrive airspeeder\"\n",
            "  ..$ : chr(0) \n",
            "  ..$ : chr(0) \n",
            "  ..$ : chr(0) \n",
            "  ..$ : chr(0) \n",
            "  ..$ : chr(0) \n",
            "  ..$ : chr(0) \n",
            "  ..$ : chr(0) \n",
            "  ..$ : chr(0) \n",
            "  ..$ : chr(0) \n",
            "  ..$ : chr \"Tsmeu-6 personal wheel bike\"\n",
            "  ..$ : chr(0) \n",
            "  ..$ : chr(0) \n",
            "  ..$ : chr(0) \n",
            "  ..$ : chr(0) \n",
            "  ..$ : chr(0) \n",
            "  ..$ : chr(0) \n",
            "  ..$ : chr(0) \n",
            "  ..$ : chr(0) \n",
            "  ..$ : chr(0) \n",
            "  ..$ : chr(0) \n",
            " $ starships :List of 87\n",
            "  ..$ : chr [1:2] \"X-wing\" \"Imperial shuttle\"\n",
            "  ..$ : chr(0) \n",
            "  ..$ : chr(0) \n",
            "  ..$ : chr \"TIE Advanced x1\"\n",
            "  ..$ : chr(0) \n",
            "  ..$ : chr(0) \n",
            "  ..$ : chr(0) \n",
            "  ..$ : chr(0) \n",
            "  ..$ : chr \"X-wing\"\n",
            "  ..$ : chr [1:5] \"Jedi starfighter\" \"Trade Federation cruiser\" \"Naboo star skiff\" \"Jedi Interceptor\" ...\n",
            "  ..$ : chr [1:3] \"Trade Federation cruiser\" \"Jedi Interceptor\" \"Naboo fighter\"\n",
            "  ..$ : chr(0) \n",
            "  ..$ : chr [1:2] \"Millennium Falcon\" \"Imperial shuttle\"\n",
            "  ..$ : chr [1:2] \"Millennium Falcon\" \"Imperial shuttle\"\n",
            "  ..$ : chr(0) \n",
            "  ..$ : chr(0) \n",
            "  ..$ : chr \"X-wing\"\n",
            "  ..$ : chr \"X-wing\"\n",
            "  ..$ : chr(0) \n",
            "  ..$ : chr(0) \n",
            "  ..$ : chr \"Slave 1\"\n",
            "  ..$ : chr(0) \n",
            "  ..$ : chr(0) \n",
            "  ..$ : chr \"Millennium Falcon\"\n",
            "  ..$ : chr(0) \n",
            "  ..$ : chr(0) \n",
            "  ..$ : chr(0) \n",
            "  ..$ : chr \"A-wing\"\n",
            "  ..$ : chr(0) \n",
            "  ..$ : chr \"Millennium Falcon\"\n",
            "  ..$ : chr(0) \n",
            "  ..$ : chr(0) \n",
            "  ..$ : chr(0) \n",
            "  ..$ : chr(0) \n",
            "  ..$ : chr(0) \n",
            "  ..$ : chr(0) \n",
            "  ..$ : chr \"Naboo Royal Starship\"\n",
            "  ..$ : chr(0) \n",
            "  ..$ : chr(0) \n",
            "  ..$ : chr(0) \n",
            "  ..$ : chr(0) \n",
            "  ..$ : chr \"Scimitar\"\n",
            "  ..$ : chr(0) \n",
            "  ..$ : chr(0) \n",
            "  ..$ : chr(0) \n",
            "  ..$ : chr(0) \n",
            "  ..$ : chr(0) \n",
            "  ..$ : chr(0) \n",
            "  ..$ : chr(0) \n",
            "  ..$ : chr(0) \n",
            "  ..$ : chr(0) \n",
            "  ..$ : chr(0) \n",
            "  ..$ : chr(0) \n",
            "  ..$ : chr(0) \n",
            "  ..$ : chr \"Jedi starfighter\"\n",
            "  ..$ : chr(0) \n",
            "  ..$ : chr \"Naboo fighter\"\n",
            "  ..$ : chr(0) \n",
            "  ..$ : chr(0) \n",
            "  ..$ : chr(0) \n",
            "  ..$ : chr(0) \n",
            "  ..$ : chr(0) \n",
            "  ..$ : chr(0) \n",
            "  ..$ : chr(0) \n",
            "  ..$ : chr(0) \n",
            "  ..$ : chr(0) \n",
            "  ..$ : chr(0) \n",
            "  ..$ : chr(0) \n",
            "  ..$ : chr(0) \n",
            "  ..$ : chr(0) \n",
            "  ..$ : chr(0) \n",
            "  ..$ : chr(0) \n",
            "  ..$ : chr(0) \n",
            "  ..$ : chr(0) \n",
            "  ..$ : chr(0) \n",
            "  ..$ : chr(0) \n",
            "  ..$ : chr \"Belbullab-22 starfighter\"\n",
            "  ..$ : chr(0) \n",
            "  ..$ : chr(0) \n",
            "  ..$ : chr(0) \n",
            "  ..$ : chr(0) \n",
            "  ..$ : chr(0) \n",
            "  ..$ : chr(0) \n",
            "  ..$ : chr \"T-70 X-wing fighter\"\n",
            "  ..$ : chr(0) \n",
            "  ..$ : chr(0) \n",
            "  ..$ : chr [1:3] \"H-type Nubian yacht\" \"Naboo star skiff\" \"Naboo fighter\"\n"
          ]
        }
      ]
    },
    {
      "cell_type": "markdown",
      "source": [
        "Use the filter function to show all characters with yellow eyes"
      ],
      "metadata": {
        "id": "UrM6LX6fmAhp"
      }
    },
    {
      "cell_type": "code",
      "source": [
        "%%R\n",
        "sw%>%\n",
        "  filter(eye_color == 'yellow')"
      ],
      "metadata": {
        "colab": {
          "base_uri": "https://localhost:8080/"
        },
        "id": "vgmTtsvikzLw",
        "outputId": "0f073e2b-c231-460d-bb69-d03d48fe2d61"
      },
      "execution_count": null,
      "outputs": [
        {
          "output_type": "stream",
          "name": "stdout",
          "text": [
            "# A tibble: 11 × 14\n",
            "   name     height  mass hair_color skin_color eye_color birth_year sex   gender\n",
            "   <chr>     <int> <dbl> <chr>      <chr>      <chr>          <dbl> <chr> <chr> \n",
            " 1 C-3PO       167    75 <NA>       gold       yellow         112   none  mascu…\n",
            " 2 Darth V…    202   136 none       white      yellow          41.9 male  mascu…\n",
            " 3 Palpati…    170    75 grey       pale       yellow          82   male  mascu…\n",
            " 4 Watto       137    NA black      blue, grey yellow          NA   male  mascu…\n",
            " 5 Darth M…    175    80 none       red        yellow          54   male  mascu…\n",
            " 6 Dud Bolt     94    45 none       blue, grey yellow          NA   male  mascu…\n",
            " 7 Ki-Adi-…    198    82 white      pale       yellow          92   male  mascu…\n",
            " 8 Yarael …    264    NA none       white      yellow          NA   male  mascu…\n",
            " 9 Poggle …    183    80 none       green      yellow          NA   male  mascu…\n",
            "10 Zam Wes…    168    55 blonde     fair, gre… yellow          NA   fema… femin…\n",
            "11 Dexter …    198   102 none       brown      yellow          NA   male  mascu…\n",
            "# … with 5 more variables: homeworld <chr>, species <chr>, films <list>,\n",
            "#   vehicles <list>, starships <list>\n"
          ]
        }
      ]
    },
    {
      "cell_type": "code",
      "source": [
        ""
      ],
      "metadata": {
        "id": "atYsenG-mKVG"
      },
      "execution_count": null,
      "outputs": []
    },
    {
      "cell_type": "markdown",
      "source": [
        "This symbol %>% is for piping. piping is chainging together commands. Here we used the pip function to chain together the 2 commands. Used the count() to see how many people have yellow eyes."
      ],
      "metadata": {
        "id": "2_bbsMNNmcF6"
      }
    },
    {
      "cell_type": "code",
      "source": [
        "%%R\n",
        "sw%>%\n",
        "  filter(eye_color == 'yellow') %>%\n",
        "  count()"
      ],
      "metadata": {
        "colab": {
          "base_uri": "https://localhost:8080/"
        },
        "outputId": "4d626a3e-c09f-4612-a5e1-eb7972ddd654",
        "id": "M56t9No3mOYI"
      },
      "execution_count": null,
      "outputs": [
        {
          "output_type": "stream",
          "name": "stdout",
          "text": [
            "# A tibble: 1 × 1\n",
            "      n\n",
            "  <int>\n",
            "1    11\n"
          ]
        }
      ]
    },
    {
      "cell_type": "markdown",
      "source": [
        "Characters with yellow eyes and a body mass of less than 80."
      ],
      "metadata": {
        "id": "pTtgH0Z1n0NM"
      }
    },
    {
      "cell_type": "code",
      "source": [
        "%%R\n",
        "sw%>%\n",
        "  filter(eye_color == 'yellow',mass < 80)\n",
        "  "
      ],
      "metadata": {
        "colab": {
          "base_uri": "https://localhost:8080/"
        },
        "id": "85SlUq3tnCQp",
        "outputId": "ae92cd33-d04d-4ed5-ce30-7eb4c4d58f10"
      },
      "execution_count": null,
      "outputs": [
        {
          "output_type": "stream",
          "name": "stdout",
          "text": [
            "# A tibble: 4 × 14\n",
            "  name      height  mass hair_color skin_color eye_color birth_year sex   gender\n",
            "  <chr>      <int> <dbl> <chr>      <chr>      <chr>          <dbl> <chr> <chr> \n",
            "1 C-3PO        167    75 <NA>       gold       yellow           112 none  mascu…\n",
            "2 Palpatine    170    75 grey       pale       yellow            82 male  mascu…\n",
            "3 Dud Bolt      94    45 none       blue, grey yellow            NA male  mascu…\n",
            "4 Zam Wese…    168    55 blonde     fair, gre… yellow            NA fema… femin…\n",
            "# … with 5 more variables: homeworld <chr>, species <chr>, films <list>,\n",
            "#   vehicles <list>, starships <list>\n"
          ]
        }
      ]
    },
    {
      "cell_type": "code",
      "source": [
        ""
      ],
      "metadata": {
        "id": "kUtwiO8Mn9JC"
      },
      "execution_count": null,
      "outputs": []
    },
    {
      "cell_type": "markdown",
      "source": [
        "We have 4 characters that have yellow eyes and body mass is less than 80"
      ],
      "metadata": {
        "id": "J4yWY2JooIHc"
      }
    },
    {
      "cell_type": "code",
      "source": [
        "%%R\n",
        "sw%>%\n",
        "  filter(eye_color == 'yellow',mass < 80)%>%\n",
        "  count()\n",
        "  "
      ],
      "metadata": {
        "colab": {
          "base_uri": "https://localhost:8080/"
        },
        "outputId": "aa2d601f-2c84-4cab-f829-41608fef84fa",
        "id": "Hn8UdeiYn-lT"
      },
      "execution_count": null,
      "outputs": [
        {
          "output_type": "stream",
          "name": "stdout",
          "text": [
            "# A tibble: 1 × 1\n",
            "      n\n",
            "  <int>\n",
            "1     4\n"
          ]
        }
      ]
    },
    {
      "cell_type": "code",
      "source": [
        "%%R\n",
        "sw_sorted <- sw%>%\n",
        "  arrange(height,mass)"
      ],
      "metadata": {
        "id": "jFLJdId1o-5a"
      },
      "execution_count": null,
      "outputs": []
    },
    {
      "cell_type": "markdown",
      "source": [
        "The dataframe is now sorted by height and mass is uner the name sw_sorted."
      ],
      "metadata": {
        "id": "HnoVSGDHq7js"
      }
    },
    {
      "cell_type": "code",
      "source": [
        "%%R\n",
        "sw_sorted"
      ],
      "metadata": {
        "colab": {
          "base_uri": "https://localhost:8080/"
        },
        "id": "roXcg4kSqr_H",
        "outputId": "401cadec-1759-4cd7-97aa-813be1565536"
      },
      "execution_count": null,
      "outputs": [
        {
          "output_type": "stream",
          "name": "stdout",
          "text": [
            "# A tibble: 87 × 14\n",
            "   name     height  mass hair_color skin_color eye_color birth_year sex   gender\n",
            "   <chr>     <int> <dbl> <chr>      <chr>      <chr>          <dbl> <chr> <chr> \n",
            " 1 Yoda         66    17 white      green      brown            896 male  mascu…\n",
            " 2 Ratts T…     79    15 none       grey, blue unknown           NA male  mascu…\n",
            " 3 Wicket …     88    20 brown      brown      brown              8 male  mascu…\n",
            " 4 Dud Bolt     94    45 none       blue, grey yellow            NA male  mascu…\n",
            " 5 R2-D2        96    32 <NA>       white, bl… red               33 none  mascu…\n",
            " 6 R4-P17       96    NA none       silver, r… red, blue         NA none  femin…\n",
            " 7 R5-D4        97    32 <NA>       white, red red               NA none  mascu…\n",
            " 8 Sebulba     112    40 none       grey, red  orange            NA male  mascu…\n",
            " 9 Gasgano     122    NA none       white, bl… black             NA male  mascu…\n",
            "10 Watto       137    NA black      blue, grey yellow            NA male  mascu…\n",
            "# … with 77 more rows, and 5 more variables: homeworld <chr>, species <chr>,\n",
            "#   films <list>, vehicles <list>, starships <list>\n"
          ]
        }
      ]
    },
    {
      "cell_type": "code",
      "source": [
        "%%R\n",
        "mutation <- sw"
      ],
      "metadata": {
        "id": "f0IAf9QPsjiq"
      },
      "execution_count": null,
      "outputs": []
    },
    {
      "cell_type": "code",
      "source": [
        ""
      ],
      "metadata": {
        "colab": {
          "base_uri": "https://localhost:8080/"
        },
        "id": "wV090OwFtus8",
        "outputId": "a8fa9760-b857-4c0e-98dc-9cd0d233b9b2"
      },
      "execution_count": null,
      "outputs": [
        {
          "output_type": "stream",
          "name": "stdout",
          "text": [
            "# A tibble: 87 × 14\n",
            "   name     height  mass hair_color skin_color eye_color birth_year sex   gender\n",
            "   <chr>     <int> <dbl> <chr>      <chr>      <chr>          <dbl> <chr> <chr> \n",
            " 1 Luke Sk…    172    77 blond      fair       blue            19   male  mascu…\n",
            " 2 C-3PO       167    75 <NA>       gold       yellow         112   none  mascu…\n",
            " 3 R2-D2        96    32 <NA>       white, bl… red             33   none  mascu…\n",
            " 4 Darth V…    202   136 none       white      yellow          41.9 male  mascu…\n",
            " 5 Leia Or…    150    49 brown      light      brown           19   fema… femin…\n",
            " 6 Owen La…    178   120 brown, gr… light      blue            52   male  mascu…\n",
            " 7 Beru Wh…    165    75 brown      light      blue            47   fema… femin…\n",
            " 8 R5-D4        97    32 <NA>       white, red red             NA   none  mascu…\n",
            " 9 Biggs D…    183    84 black      light      brown           24   male  mascu…\n",
            "10 Obi-Wan…    182    77 auburn, w… fair       blue-gray       57   male  mascu…\n",
            "# … with 77 more rows, and 5 more variables: homeworld <chr>, species <chr>,\n",
            "#   films <list>, vehicles <list>, starships <list>\n"
          ]
        }
      ]
    },
    {
      "cell_type": "code",
      "source": [
        "%%R\n",
        "sw_plus <- sw%>%\n",
        "  mutate(height_x_mass = height*mass)"
      ],
      "metadata": {
        "id": "toHqH9w6ufkd"
      },
      "execution_count": null,
      "outputs": []
    },
    {
      "cell_type": "markdown",
      "source": [
        "used the mutation function to make a new column that combinded hight * mass in a new column"
      ],
      "metadata": {
        "id": "w9Dne8pmv8C8"
      }
    },
    {
      "cell_type": "code",
      "source": [
        "%%R\n",
        "sw_plus\n",
        "  glimpse(sw_plus)"
      ],
      "metadata": {
        "colab": {
          "base_uri": "https://localhost:8080/"
        },
        "id": "YItOSShMvJOS",
        "outputId": "1a208a82-3994-4ca7-c472-0c357bb7a5e9"
      },
      "execution_count": null,
      "outputs": [
        {
          "output_type": "stream",
          "name": "stdout",
          "text": [
            "Rows: 87\n",
            "Columns: 15\n",
            "$ name          <chr> \"Luke Skywalker\", \"C-3PO\", \"R2-D2\", \"Darth Vader\", \"Leia…\n",
            "$ height        <int> 172, 167, 96, 202, 150, 178, 165, 97, 183, 182, 188, 180…\n",
            "$ mass          <dbl> 77.0, 75.0, 32.0, 136.0, 49.0, 120.0, 75.0, 32.0, 84.0, …\n",
            "$ hair_color    <chr> \"blond\", NA, NA, \"none\", \"brown\", \"brown, grey\", \"brown\"…\n",
            "$ skin_color    <chr> \"fair\", \"gold\", \"white, blue\", \"white\", \"light\", \"light\"…\n",
            "$ eye_color     <chr> \"blue\", \"yellow\", \"red\", \"yellow\", \"brown\", \"blue\", \"blu…\n",
            "$ birth_year    <dbl> 19.0, 112.0, 33.0, 41.9, 19.0, 52.0, 47.0, NA, 24.0, 57.…\n",
            "$ sex           <chr> \"male\", \"none\", \"none\", \"male\", \"female\", \"male\", \"femal…\n",
            "$ gender        <chr> \"masculine\", \"masculine\", \"masculine\", \"masculine\", \"fem…\n",
            "$ homeworld     <chr> \"Tatooine\", \"Tatooine\", \"Naboo\", \"Tatooine\", \"Alderaan\",…\n",
            "$ species       <chr> \"Human\", \"Droid\", \"Droid\", \"Human\", \"Human\", \"Human\", \"H…\n",
            "$ films         <list> <\"The Empire Strikes Back\", \"Revenge of the Sith\", \"Ret…\n",
            "$ vehicles      <list> <\"Snowspeeder\", \"Imperial Speeder Bike\">, <>, <>, <>, \"…\n",
            "$ starships     <list> <\"X-wing\", \"Imperial shuttle\">, <>, <>, \"TIE Advanced x…\n",
            "$ height_x_mass <dbl> 13244.0, 12525.0, 3072.0, 27472.0, 7350.0, 21360.0, 1237…\n"
          ]
        }
      ]
    },
    {
      "cell_type": "markdown",
      "source": [
        "Using the select function I was able to select the height and mass columns."
      ],
      "metadata": {
        "id": "kG1MVrxiLJjc"
      }
    },
    {
      "cell_type": "code",
      "source": [
        "\n",
        "%%R\n",
        "sw %>%\n",
        "select(height,mass)"
      ],
      "metadata": {
        "colab": {
          "base_uri": "https://localhost:8080/"
        },
        "id": "u7Z0f1FfKwfi",
        "outputId": "00232e7f-5bb9-4549-cd5e-30c6559a2484"
      },
      "execution_count": null,
      "outputs": [
        {
          "output_type": "stream",
          "name": "stdout",
          "text": [
            "# A tibble: 87 × 2\n",
            "   height  mass\n",
            "    <int> <dbl>\n",
            " 1    172    77\n",
            " 2    167    75\n",
            " 3     96    32\n",
            " 4    202   136\n",
            " 5    150    49\n",
            " 6    178   120\n",
            " 7    165    75\n",
            " 8     97    32\n",
            " 9    183    84\n",
            "10    182    77\n",
            "# … with 77 more rows\n"
          ]
        }
      ]
    },
    {
      "cell_type": "markdown",
      "source": [
        "Used the select funtiction to grab the hair color column. Used distinct function to show the unique colors of hair."
      ],
      "metadata": {
        "id": "70zrwgIwL-7U"
      }
    },
    {
      "cell_type": "code",
      "source": [
        "%%R\n",
        "sw %>%\n",
        "  select(hair_color)%>%\n",
        "  distinct()"
      ],
      "metadata": {
        "colab": {
          "base_uri": "https://localhost:8080/"
        },
        "id": "JPRma_0PLTyY",
        "outputId": "d5ea501d-e0ed-4a0b-f01b-e8fcb46e49e6"
      },
      "execution_count": null,
      "outputs": [
        {
          "output_type": "stream",
          "name": "stdout",
          "text": [
            "# A tibble: 13 × 1\n",
            "   hair_color   \n",
            "   <chr>        \n",
            " 1 blond        \n",
            " 2 <NA>         \n",
            " 3 none         \n",
            " 4 brown        \n",
            " 5 brown, grey  \n",
            " 6 black        \n",
            " 7 auburn, white\n",
            " 8 auburn, grey \n",
            " 9 white        \n",
            "10 grey         \n",
            "11 auburn       \n",
            "12 blonde       \n",
            "13 unknown      \n"
          ]
        }
      ]
    },
    {
      "cell_type": "markdown",
      "source": [
        "Used the sample function to randomly sample data from the dataframe\n",
        "set.seed function will keep the sample from changing when it runs more than once."
      ],
      "metadata": {
        "id": "BELZCvtKM1K-"
      }
    },
    {
      "cell_type": "code",
      "source": [
        "%%R\n",
        "sw %>%\n",
        "  \n",
        "  sample_n(10)"
      ],
      "metadata": {
        "colab": {
          "base_uri": "https://localhost:8080/"
        },
        "id": "d4IgpXtMMiZO",
        "outputId": "601455a7-c95c-4193-8c60-65b4fccda0da"
      },
      "execution_count": null,
      "outputs": [
        {
          "output_type": "stream",
          "name": "stdout",
          "text": [
            "# A tibble: 10 × 14\n",
            "   name     height  mass hair_color skin_color eye_color birth_year sex   gender\n",
            "   <chr>     <int> <dbl> <chr>      <chr>      <chr>          <dbl> <chr> <chr> \n",
            " 1 Boba Fe…    183  78.2 black      fair       brown           31.5 male  mascu…\n",
            " 2 Wilhuff…    180  NA   auburn, g… fair       blue            64   male  mascu…\n",
            " 3 Darth V…    202 136   none       white      yellow          41.9 male  mascu…\n",
            " 4 Dud Bolt     94  45   none       blue, grey yellow          NA   male  mascu…\n",
            " 5 Bossk       190 113   none       green      red             53   male  mascu…\n",
            " 6 Sebulba     112  40   none       grey, red  orange          NA   male  mascu…\n",
            " 7 Nute Gu…    191  90   none       mottled g… red             NA   male  mascu…\n",
            " 8 Arvel C…     NA  NA   brown      fair       brown           NA   male  mascu…\n",
            " 9 Tion Me…    206  80   none       grey       black           NA   male  mascu…\n",
            "10 Padmé A…    165  45   brown      light      brown           46   fema… femin…\n",
            "# … with 5 more variables: homeworld <chr>, species <chr>, films <list>,\n",
            "#   vehicles <list>, starships <list>\n"
          ]
        }
      ]
    },
    {
      "cell_type": "code",
      "source": [
        ""
      ],
      "metadata": {
        "id": "WFUsAatLN3h7"
      },
      "execution_count": null,
      "outputs": []
    },
    {
      "cell_type": "markdown",
      "source": [
        "Used the simple frac function to get a 20% of the data from the dataframe."
      ],
      "metadata": {
        "id": "iBHm5McNOMze"
      }
    },
    {
      "cell_type": "code",
      "source": [
        "%%R\n",
        "sw %>%\n",
        "  \n",
        "  sample_frac(0.2)"
      ],
      "metadata": {
        "colab": {
          "base_uri": "https://localhost:8080/"
        },
        "outputId": "b5d420b7-f537-41fa-8ab8-7102e1db96ef",
        "id": "M3GZt9vFN5eS"
      },
      "execution_count": null,
      "outputs": [
        {
          "output_type": "stream",
          "name": "stdout",
          "text": [
            "# A tibble: 17 × 14\n",
            "   name     height  mass hair_color skin_color eye_color birth_year sex   gender\n",
            "   <chr>     <int> <dbl> <chr>      <chr>      <chr>          <dbl> <chr> <chr> \n",
            " 1 Qui-Gon…    193    89 brown      fair       blue              92 male  mascu…\n",
            " 2 San Hill    191    NA none       grey       gold              NA male  mascu…\n",
            " 3 Wat Tam…    193    48 none       green, gr… unknown           NA male  mascu…\n",
            " 4 R5-D4        97    32 <NA>       white, red red               NA none  mascu…\n",
            " 5 Jocasta…    167    NA white      fair       blue              NA fema… femin…\n",
            " 6 Mon Mot…    150    NA auburn     fair       blue              48 fema… femin…\n",
            " 7 Wilhuff…    180    NA auburn, g… fair       blue              64 male  mascu…\n",
            " 8 Yarael …    264    NA none       white      yellow            NA male  mascu…\n",
            " 9 Bail Pr…    191    NA black      tan        brown             67 male  mascu…\n",
            "10 Ayla Se…    178    55 none       blue       hazel             48 fema… femin…\n",
            "11 Zam Wes…    168    55 blonde     fair, gre… yellow            NA fema… femin…\n",
            "12 Tion Me…    206    80 none       grey       black             NA male  mascu…\n",
            "13 Raymus …    188    79 brown      light      brown             NA male  mascu…\n",
            "14 Captain…     NA    NA unknown    unknown    unknown           NA <NA>  <NA>  \n",
            "15 Watto       137    NA black      blue, grey yellow            NA male  mascu…\n",
            "16 Ratts T…     79    15 none       grey, blue unknown           NA male  mascu…\n",
            "17 Taun We     213    NA none       grey       black             NA fema… femin…\n",
            "# … with 5 more variables: homeworld <chr>, species <chr>, films <list>,\n",
            "#   vehicles <list>, starships <list>\n"
          ]
        }
      ]
    },
    {
      "cell_type": "markdown",
      "source": [
        "Used the summarize function to give a summery and mean about the height."
      ],
      "metadata": {
        "id": "3XUQF1NcPIDH"
      }
    },
    {
      "cell_type": "code",
      "source": [
        "%%R\n",
        "sw%>%\n",
        "  summarize(avg = mean(height, na.rm = TRUE))\n"
      ],
      "metadata": {
        "colab": {
          "base_uri": "https://localhost:8080/"
        },
        "id": "QAesAsqIOcha",
        "outputId": "1a0d8b7b-7fb8-4b03-a514-7984f3a8fc4d"
      },
      "execution_count": null,
      "outputs": [
        {
          "output_type": "stream",
          "name": "stdout",
          "text": [
            "# A tibble: 1 × 1\n",
            "    avg\n",
            "  <dbl>\n",
            "1  174.\n"
          ]
        }
      ]
    },
    {
      "cell_type": "code",
      "source": [
        ""
      ],
      "metadata": {
        "id": "1ARxJ2rhPPpR"
      },
      "execution_count": null,
      "outputs": []
    },
    {
      "cell_type": "markdown",
      "source": [
        "Used the group by function to group two columns next to eachother."
      ],
      "metadata": {
        "id": "MXFSeMvkRBNB"
      }
    },
    {
      "cell_type": "code",
      "source": [
        "%%R\n",
        "sw %>%\n",
        "  group_by(eye_color) %>%\n",
        "  summarize(min_var = min(height, na.rm = TRUE))"
      ],
      "metadata": {
        "colab": {
          "base_uri": "https://localhost:8080/"
        },
        "outputId": "5d10c76c-64ec-4866-8182-f345a7210a03",
        "id": "4fAFIHwlPisH"
      },
      "execution_count": null,
      "outputs": [
        {
          "output_type": "stream",
          "name": "stdout",
          "text": [
            "# A tibble: 15 × 2\n",
            "   eye_color     min_var\n",
            "   <chr>           <dbl>\n",
            " 1 black             122\n",
            " 2 blue              150\n",
            " 3 blue-gray         182\n",
            " 4 brown              66\n",
            " 5 dark              Inf\n",
            " 6 gold              191\n",
            " 7 green, yellow     216\n",
            " 8 hazel             170\n",
            " 9 orange            112\n",
            "10 pink              180\n",
            "11 red                96\n",
            "12 red, blue          96\n",
            "13 unknown            79\n",
            "14 white             178\n",
            "15 yellow             94\n"
          ]
        }
      ]
    },
    {
      "cell_type": "code",
      "source": [
        ""
      ],
      "metadata": {
        "id": "8mR2Coi_TGMQ"
      },
      "execution_count": null,
      "outputs": []
    }
  ]
}